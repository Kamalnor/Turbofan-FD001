{
 "cells": [
  {
   "cell_type": "code",
   "execution_count": 1,
   "metadata": {},
   "outputs": [],
   "source": [
    "import numpy as np"
   ]
  },
  {
   "cell_type": "code",
   "execution_count": null,
   "metadata": {},
   "outputs": [],
   "source": [
    "   np.save(f, tens_draw)\n",
    "    np.save(f, tens_draw1)\n",
    "    np.save(f, tens_draw2)\n",
    "    np.save(f, mean)\n",
    "    np.save(f, std)\n",
    "    np.save(f, mean1)\n",
    "    np.save(f, std1)"
   ]
  },
  {
   "cell_type": "code",
   "execution_count": null,
   "metadata": {},
   "outputs": [],
   "source": [
    "with open('test.npy', 'rb') as f:\n",
    "    tens_draw1 = np.load(tens_draw1)\n",
    "    tens_draw1 = np.load(tens_draw2)\n",
    "    a = np.load(tens_draw3)\n",
    "    b = np.load(mean)\n",
    "    a = np.load(std)\n",
    "    b = np.load(mean1)\n",
    "    a = np.load(std1)"
   ]
  }
 ],
 "metadata": {
  "kernelspec": {
   "display_name": "Python 3",
   "language": "python",
   "name": "python3"
  },
  "language_info": {
   "codemirror_mode": {
    "name": "ipython",
    "version": 3
   },
   "file_extension": ".py",
   "mimetype": "text/x-python",
   "name": "python",
   "nbconvert_exporter": "python",
   "pygments_lexer": "ipython3",
   "version": "3.7.6"
  }
 },
 "nbformat": 4,
 "nbformat_minor": 4
}
